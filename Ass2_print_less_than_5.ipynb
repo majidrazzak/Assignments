{
 "cells": [
  {
   "cell_type": "code",
   "execution_count": null,
   "metadata": {},
   "outputs": [],
   "source": [
    "a = [1, 1, 2, 3, 5, 8, 13, 21, 34, 55, 89]\n",
    "if a[0] < 5 :\n",
    "    print(a[0])\n",
    "if a[1] < 5 :\n",
    "    print(a[1])\n",
    "if a[2] < 5 :\n",
    "    print(a[2])\n",
    "if a[3] < 5 :\n",
    "    print(a[3])\n",
    "if a[4] < 5 :\n",
    "    print(a[4])\n",
    "if a[5] < 5 :\n",
    "    print(a[5])\n",
    "if a[6] < 5 :\n",
    "    print(a[6])\n",
    "if a[7] < 5 :\n",
    "    print(a[7])\n",
    "if a[8] < 5 :\n",
    "    print(a[8])\n",
    "if a[8] < 5 :\n",
    "    print(a[8])\n",
    "if a[9] < 5 :\n",
    "    print(a[9])\n",
    "if a[10] < 5 :\n",
    "    print(a[10])"
   ]
  }
 ],
 "metadata": {
  "kernelspec": {
   "display_name": "Python 3",
   "language": "python",
   "name": "python3"
  },
  "language_info": {
   "codemirror_mode": {
    "name": "ipython",
    "version": 3
   },
   "file_extension": ".py",
   "mimetype": "text/x-python",
   "name": "python",
   "nbconvert_exporter": "python",
   "pygments_lexer": "ipython3",
   "version": "3.7.4"
  }
 },
 "nbformat": 4,
 "nbformat_minor": 2
}
