{
 "cells": [
  {
   "cell_type": "code",
   "execution_count": null,
   "metadata": {},
   "outputs": [],
   "source": [
    "maths = int(input(\"Enter marks in Mathematics : \"))\n",
    "chem = int(input(\"Enter marks in Chemistry : \"))\n",
    "phy = int(input(\"Enter marks in Physics : \"))\n",
    "urdu = int(input(\"Enter marks in Urdu: \"))\n",
    "eng = int(input(\"Enter marks in English : \"))\n",
    "sum1 = maths + chem + phy + urdu + eng\n",
    "avg = sum1 / 5\n",
    "if avg >= 80 and avg <= 100 :\n",
    "    grade = \"A+\"\n",
    "elif avg >= 70 and avg <80 :\n",
    "    grade = \"A\"\n",
    "elif avg >= 60 and avg <70 :\n",
    "    grade = \"B\"\n",
    "elif avg >= 50 and avg <60 :\n",
    "    grade = \"C\"\n",
    "elif avg >= 40 and avg <50 :\n",
    "    grade = \"D\"\n",
    "elif avg >= 0 and avg <33 :\n",
    "    grade = \"F\"\n",
    "print(\"Your grade is \")\n",
    "print(grade)"
   ]
  }
 ],
 "metadata": {
  "kernelspec": {
   "display_name": "Python 3",
   "language": "python",
   "name": "python3"
  },
  "language_info": {
   "codemirror_mode": {
    "name": "ipython",
    "version": 3
   },
   "file_extension": ".py",
   "mimetype": "text/x-python",
   "name": "python",
   "nbconvert_exporter": "python",
   "pygments_lexer": "ipython3",
   "version": "3.7.4"
  }
 },
 "nbformat": 4,
 "nbformat_minor": 2
}
